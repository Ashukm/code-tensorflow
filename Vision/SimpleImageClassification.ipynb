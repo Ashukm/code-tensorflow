{
  "nbformat": 4,
  "nbformat_minor": 0,
  "metadata": {
    "colab": {
      "provenance": []
    },
    "kernelspec": {
      "name": "python3",
      "display_name": "Python 3"
    },
    "language_info": {
      "name": "python"
    }
  },
  "cells": [
    {
      "cell_type": "code",
      "execution_count": 1,
      "metadata": {
        "id": "tqCOaKYt-XC8"
      },
      "outputs": [],
      "source": [
        "import tensorflow as tf\n",
        "import numpy as np\n",
        "import matplotlib.pyplot as plt"
      ]
    },
    {
      "cell_type": "code",
      "source": [
        "# TF version\n",
        "print(tf.__version__)"
      ],
      "metadata": {
        "colab": {
          "base_uri": "https://localhost:8080/"
        },
        "id": "JCyXp5wJ-yNi",
        "outputId": "b6689884-ca4b-439a-883d-1acbc49b93cb"
      },
      "execution_count": 16,
      "outputs": [
        {
          "output_type": "stream",
          "name": "stdout",
          "text": [
            "2.9.2\n"
          ]
        }
      ]
    },
    {
      "cell_type": "code",
      "source": [
        "# Load Fashion MNIST dataset\n",
        "# Contains 70,000 grayscale images in 10 categories.\n",
        "# 60,000 train images and 10,000 test images.\n",
        "# The mapping between label and categories is referenced from https://www.tensorflow.org/api_docs/python/tf/keras/datasets/fashion_mnist/load_data\n",
        "\n",
        "fashion_mnist = tf.keras.datasets.fashion_mnist\n",
        "fashion_categories = ['T-shirt/top', 'Trouser', 'Pullover', 'Dress', 'Coat',\n",
        "               'Sandal', 'Shirt', 'Sneaker', 'Bag', 'Ankle boot']\n",
        "\n",
        "# Load the data using load_data() which returns tuple of NumPy arrays: (x_train, y_train), (x_test, y_test)\n",
        "(train_images,train_labels),(test_images,test_labels) = fashion_mnist.load_data()\n",
        "\n",
        "print(\"Number of train images : \",train_images.shape[0])\n",
        "print(\"Number of train categories : \" , np.unique(train_labels).shape[0])\n",
        "print(\"Size of train image : {} x {}\".format(train_images.shape[1],train_images.shape[2] ))\n",
        "\n",
        "print(\"Number of test images : \",test_images.shape[0])\n",
        "print(\"Number of test categories : \" , np.unique(test_labels).shape[0])\n",
        "print(\"Size of test image : {} x {}\".format(test_images.shape[1],test_images.shape[2] ))\n"
      ],
      "metadata": {
        "colab": {
          "base_uri": "https://localhost:8080/"
        },
        "id": "WL55Ax4Z-6p0",
        "outputId": "70403c50-b572-49fe-b512-d78445862be6"
      },
      "execution_count": 17,
      "outputs": [
        {
          "output_type": "stream",
          "name": "stdout",
          "text": [
            "Number of train images :  60000\n",
            "Number of train categories :  10\n",
            "Size of train image : 28 x 28\n",
            "Number of test images :  10000\n",
            "Number of test categories :  10\n",
            "Size of test image : 28 x 28\n"
          ]
        }
      ]
    },
    {
      "cell_type": "code",
      "source": [
        "# Visualize the images\n",
        "def visualize():\n",
        "  plt.figure(figsize=(6,6))\n",
        "  for i in range(9):\n",
        "    plt.subplot(3,3,i+1)\n",
        "    plt.xticks([])\n",
        "    plt.yticks([])\n",
        "    plt.xlabel(fashion_categories[train_labels[i-1]])\n",
        "    plt.imshow(train_images[i-1],cmap=plt.cm.binary)\n",
        "visualize()"
      ],
      "metadata": {
        "colab": {
          "base_uri": "https://localhost:8080/",
          "height": 371
        },
        "id": "sdBvzlQrC6eS",
        "outputId": "0cd83e32-9426-4b20-f7fb-c2eb9a069c2c"
      },
      "execution_count": 18,
      "outputs": [
        {
          "output_type": "display_data",
          "data": {
            "text/plain": [
              "<Figure size 432x432 with 9 Axes>"
            ],
            "image/png": "[encoded data removed]"
          },
          "metadata": {}
        }
      ]
    },
    {
      "cell_type": "code",
      "source": [
        "# Preprocessing - Normalization\n",
        "# Fashion MNIST grayscale images have pixel values ranging between 0-255. \n",
        "# Scale down the values between 0-1 by diving the images with 255\n",
        "train_images = train_images/255.0\n",
        "test_images = test_images/255.0\n"
      ],
      "metadata": {
        "id": "ax3solzpCcCE"
      },
      "execution_count": 20,
      "outputs": []
    },
    {
      "cell_type": "code",
      "source": [
        "# Build model\n",
        "model = tf.keras.Sequential()\n",
        "model.add(tf.keras.layers.Flatten())\n",
        "model.add(tf.keras.layers.Dense(128,activation='relu'))\n",
        "model.add(tf.keras.layers.Dense(10))"
      ],
      "metadata": {
        "id": "0BDIsYRUL4Am"
      },
      "execution_count": 38,
      "outputs": []
    },
    {
      "cell_type": "code",
      "source": [
        "# Compile the model\n",
        "optimizer = 'adam'\n",
        "loss = tf.keras.losses.SparseCategoricalCrossentropy(from_logits=True)\n",
        "metrics=['accuracy']\n",
        "\n",
        "model.compile(optimizer=optimizer ,loss=loss , metrics=metrics)"
      ],
      "metadata": {
        "id": "Q8UhhdzMPDbv"
      },
      "execution_count": 40,
      "outputs": []
    },
    {
      "cell_type": "code",
      "source": [
        "# Train model\n",
        "model.fit(x=train_images,y=train_labels,epochs=20)\n",
        "model.summary()"
      ],
      "metadata": {
        "colab": {
          "base_uri": "https://localhost:8080/"
        },
        "id": "mD1k2zNvP_hN",
        "outputId": "705df10a-75f3-48b8-9e78-8879f38b6bf5"
      },
      "execution_count": 42,
      "outputs": [
        {
          "output_type": "stream",
          "name": "stdout",
          "text": [
            "Epoch 1/20\n",
            "1875/1875 [==============================] - 6s 3ms/step - loss: 0.6530 - accuracy: 0.7646\n",
            "Epoch 2/20\n",
            "1875/1875 [==============================] - 6s 3ms/step - loss: 0.5745 - accuracy: 0.7932\n",
            "Epoch 3/20\n",
            "1875/1875 [==============================] - 6s 3ms/step - loss: 0.5311 - accuracy: 0.8114\n",
            "Epoch 4/20\n",
            "1875/1875 [==============================] - 6s 3ms/step - loss: 0.5027 - accuracy: 0.8227\n",
            "Epoch 5/20\n",
            "1875/1875 [==============================] - 6s 3ms/step - loss: 0.4830 - accuracy: 0.8293\n",
            "Epoch 6/20\n",
            "1875/1875 [==============================] - 6s 3ms/step - loss: 0.4675 - accuracy: 0.8348\n",
            "Epoch 7/20\n",
            "1875/1875 [==============================] - 6s 3ms/step - loss: 0.4555 - accuracy: 0.8396\n",
            "Epoch 8/20\n",
            "1875/1875 [==============================] - 6s 3ms/step - loss: 0.4454 - accuracy: 0.8437\n",
            "Epoch 9/20\n",
            "1875/1875 [==============================] - 6s 3ms/step - loss: 0.4373 - accuracy: 0.8453\n",
            "Epoch 10/20\n",
            "1875/1875 [==============================] - 6s 3ms/step - loss: 0.4302 - accuracy: 0.8479\n",
            "Epoch 11/20\n",
            "1875/1875 [==============================] - 6s 3ms/step - loss: 0.4236 - accuracy: 0.8511\n",
            "Epoch 12/20\n",
            "1875/1875 [==============================] - 6s 3ms/step - loss: 0.4173 - accuracy: 0.8537\n",
            "Epoch 13/20\n",
            "1875/1875 [==============================] - 6s 3ms/step - loss: 0.4122 - accuracy: 0.8547\n",
            "Epoch 14/20\n",
            "1875/1875 [==============================] - 6s 3ms/step - loss: 0.4075 - accuracy: 0.8564\n",
            "Epoch 15/20\n",
            "1875/1875 [==============================] - 6s 3ms/step - loss: 0.4030 - accuracy: 0.8579\n",
            "Epoch 16/20\n",
            "1875/1875 [==============================] - 6s 3ms/step - loss: 0.3986 - accuracy: 0.8596\n",
            "Epoch 17/20\n",
            "1875/1875 [==============================] - 6s 3ms/step - loss: 0.3954 - accuracy: 0.8608\n",
            "Epoch 18/20\n",
            "1875/1875 [==============================] - 6s 3ms/step - loss: 0.3916 - accuracy: 0.8625\n",
            "Epoch 19/20\n",
            "1875/1875 [==============================] - 6s 3ms/step - loss: 0.3877 - accuracy: 0.8638\n",
            "Epoch 20/20\n",
            "1875/1875 [==============================] - 6s 3ms/step - loss: 0.3846 - accuracy: 0.8639\n",
            "Model: \"sequential_5\"\n",
            "_________________________________________________________________\n",
            " Layer (type)                Output Shape              Param #   \n",
            "=================================================================\n",
            " flatten_6 (Flatten)         (32, 784)                 0         \n",
            "                                                                 \n",
            " dense_6 (Dense)             (32, 100)                 78500     \n",
            "                                                                 \n",
            " dense_7 (Dense)             (32, 10)                  1010      \n",
            "                                                                 \n",
            "=================================================================\n",
            "Total params: 79,510\n",
            "Trainable params: 79,510\n",
            "Non-trainable params: 0\n",
            "_________________________________________________________________\n"
          ]
        }
      ]
    },
    {
      "cell_type": "code",
      "source": [
        "# Evaluate with test data\n",
        "test_loss, test_acc = model.evaluate(x=test_images,y=test_labels)\n",
        "print(\"Test loss : \",test_loss)\n",
        "print(\"Test accuracy : \", test_acc)"
      ],
      "metadata": {
        "colab": {
          "base_uri": "https://localhost:8080/"
        },
        "id": "l9p_JBZ9Xd8f",
        "outputId": "f699c9a2-e4bd-41b1-ac35-fad028a9dc41"
      },
      "execution_count": 43,
      "outputs": [
        {
          "output_type": "stream",
          "name": "stdout",
          "text": [
            "313/313 [==============================] - 1s 2ms/step - loss: 0.4260 - accuracy: 0.8482\n",
            "Test loss :  0.425950288772583\n",
            "Test accuracy :  0.8482000231742859\n"
          ]
        }
      ]
    },
    {
      "cell_type": "code",
      "source": [
        "# apply softmax layer on output logits to get probabilities for each claasification class\n",
        "softmax_model = tf.keras.Sequential([model,tf.keras.layers.Softmax()])\n",
        "\n",
        "logit_predictions = model.predict(test_images)\n",
        "probability_predictions = softmax_model.predict(test_images)\n",
        "\n",
        "print(logit_predictions[0])\n",
        "print(probability_predictions[0])"
      ],
      "metadata": {
        "colab": {
          "base_uri": "https://localhost:8080/"
        },
        "id": "A7hCgaC9YsWh",
        "outputId": "0734549f-c84b-41f5-fb6b-d966622fc5fa"
      },
      "execution_count": 44,
      "outputs": [
        {
          "output_type": "stream",
          "name": "stdout",
          "text": [
            "313/313 [==============================] - 1s 2ms/step\n",
            "313/313 [==============================] - 1s 2ms/step\n",
            "[ -9.872498  -12.592153   -7.881488   -7.916373   -6.5245957   3.543224\n",
            "  -7.1451015   3.2065146  -0.1741093   5.0777273]\n",
            "[2.33869741e-07 1.54114268e-08 1.71261036e-06 1.65389531e-06\n",
            " 6.65195194e-06 1.56800658e-01 3.57657291e-06 1.11973904e-01\n",
            " 3.81004787e-03 7.27401495e-01]\n"
          ]
        }
      ]
    },
    {
      "cell_type": "code",
      "source": [
        "# get the predictions with max probability\n",
        "max_preds = np.argmax(probability_predictions,axis=1)\n",
        "\n",
        "print(max_preds[0],\" = \",fashion_categories[max_preds[0]])"
      ],
      "metadata": {
        "colab": {
          "base_uri": "https://localhost:8080/"
        },
        "id": "iog5XcecbQEH",
        "outputId": "0471c222-3cd9-4049-bc83-ebff9e70b451"
      },
      "execution_count": 50,
      "outputs": [
        {
          "output_type": "stream",
          "name": "stdout",
          "text": [
            "9  =  Ankle boot\n"
          ]
        }
      ]
    },
    {
      "cell_type": "code",
      "source": [
        "# Display results for first 9 test images\n",
        "plt.figure(figsize=(6,6))\n",
        "for i in range(9):\n",
        "    plt.subplot(3,3,i+1) \n",
        "    plt.xticks([])\n",
        "    plt.yticks([])\n",
        "    plt.xlabel(fashion_categories[max_preds[i-1]]+\" - \"+'{:2.0f}%'.format(probability_predictions[i-1,max_preds[i-1]]*100))\n",
        "    plt.imshow(test_images[i-1],cmap=plt.cm.binary)"
      ],
      "metadata": {
        "colab": {
          "base_uri": "https://localhost:8080/",
          "height": 371
        },
        "id": "7PqUyKjWclJQ",
        "outputId": "1a3d7d79-00e9-404e-db20-dac66c05cede"
      },
      "execution_count": 57,
      "outputs": [
        {
          "output_type": "display_data",
          "data": {
            "text/plain": [
              "<Figure size 432x432 with 9 Axes>"
            ],
            "image/png": "[encoded data removed]"
          },
          "metadata": {}
        }
      ]
    }
  ]
}